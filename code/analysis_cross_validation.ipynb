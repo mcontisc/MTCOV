{
 "cells": [
  {
   "cell_type": "markdown",
   "metadata": {},
   "source": [
    "# Extract optimal hyperparameters ($C$, $\\gamma$) with cross-validation tests.\n",
    "Jupyter Notebook for analysing the results of the held-out tests  performed using the file `main_cv_single_real.py` (and optional `run_cv.sh`). \n",
    "\n",
    "We performed prediction tasks using cross-validation with 80-20 splits: we use 80% of the data for training the parameters and then measure AUC and accuracy on the remaining 20% test set. Specifically, for the network topology, we hold out 20% of the triples $(\\alpha, i, j)$; for the attributes, we hold out 20% of the entries of the categorical vector.  \n",
    "To improve performance, set `N_real` to a higher number (results were obtained with `N_real=1`). This will slow down the algorithm, but will find a solution with higher loglikelihood (in the training).\n"
   ]
  },
  {
   "cell_type": "code",
   "execution_count": 1,
   "metadata": {},
   "outputs": [],
   "source": [
    "# import modules\n",
    "import numpy as np\n",
    "import pandas as pd\n",
    "import matplotlib.pyplot as plt"
   ]
  },
  {
   "cell_type": "code",
   "execution_count": 2,
   "metadata": {},
   "outputs": [
    {
     "name": "stdout",
     "output_type": "stream",
     "text": [
      "Shape: (45, 10)\n"
     ]
    },
    {
     "data": {
      "text/html": [
       "<div>\n",
       "<style scoped>\n",
       "    .dataframe tbody tr th:only-of-type {\n",
       "        vertical-align: middle;\n",
       "    }\n",
       "\n",
       "    .dataframe tbody tr th {\n",
       "        vertical-align: top;\n",
       "    }\n",
       "\n",
       "    .dataframe thead th {\n",
       "        text-align: right;\n",
       "    }\n",
       "</style>\n",
       "<table border=\"1\" class=\"dataframe\">\n",
       "  <thead>\n",
       "    <tr style=\"text-align: right;\">\n",
       "      <th></th>\n",
       "      <th>C</th>\n",
       "      <th>gamma</th>\n",
       "      <th>fold</th>\n",
       "      <th>rseed</th>\n",
       "      <th>logL</th>\n",
       "      <th>acc_train</th>\n",
       "      <th>auc_train</th>\n",
       "      <th>logL_test</th>\n",
       "      <th>acc_test</th>\n",
       "      <th>auc_test</th>\n",
       "    </tr>\n",
       "  </thead>\n",
       "  <tbody>\n",
       "    <tr>\n",
       "      <td>0</td>\n",
       "      <td>2</td>\n",
       "      <td>0.3</td>\n",
       "      <td>0</td>\n",
       "      <td>748</td>\n",
       "      <td>-11782.680426</td>\n",
       "      <td>0.758333</td>\n",
       "      <td>0.781345</td>\n",
       "      <td>-2820.592644</td>\n",
       "      <td>0.750000</td>\n",
       "      <td>0.757769</td>\n",
       "    </tr>\n",
       "    <tr>\n",
       "      <td>1</td>\n",
       "      <td>2</td>\n",
       "      <td>0.3</td>\n",
       "      <td>1</td>\n",
       "      <td>1131</td>\n",
       "      <td>-11757.778156</td>\n",
       "      <td>0.758333</td>\n",
       "      <td>0.785124</td>\n",
       "      <td>-2850.365154</td>\n",
       "      <td>0.750000</td>\n",
       "      <td>0.750571</td>\n",
       "    </tr>\n",
       "    <tr>\n",
       "      <td>2</td>\n",
       "      <td>2</td>\n",
       "      <td>0.3</td>\n",
       "      <td>2</td>\n",
       "      <td>1452</td>\n",
       "      <td>-11607.485077</td>\n",
       "      <td>0.779167</td>\n",
       "      <td>0.787463</td>\n",
       "      <td>-2981.943372</td>\n",
       "      <td>0.666667</td>\n",
       "      <td>0.742051</td>\n",
       "    </tr>\n",
       "    <tr>\n",
       "      <td>3</td>\n",
       "      <td>2</td>\n",
       "      <td>0.3</td>\n",
       "      <td>3</td>\n",
       "      <td>1926</td>\n",
       "      <td>-11694.449144</td>\n",
       "      <td>0.745833</td>\n",
       "      <td>0.778799</td>\n",
       "      <td>-2820.611484</td>\n",
       "      <td>0.800000</td>\n",
       "      <td>0.752996</td>\n",
       "    </tr>\n",
       "    <tr>\n",
       "      <td>4</td>\n",
       "      <td>2</td>\n",
       "      <td>0.3</td>\n",
       "      <td>4</td>\n",
       "      <td>1969</td>\n",
       "      <td>-11819.378133</td>\n",
       "      <td>0.741667</td>\n",
       "      <td>0.781889</td>\n",
       "      <td>-2748.992755</td>\n",
       "      <td>0.816667</td>\n",
       "      <td>0.762244</td>\n",
       "    </tr>\n",
       "  </tbody>\n",
       "</table>\n",
       "</div>"
      ],
      "text/plain": [
       "   C  gamma  fold  rseed          logL  acc_train  auc_train    logL_test  \\\n",
       "0  2    0.3     0    748 -11782.680426   0.758333   0.781345 -2820.592644   \n",
       "1  2    0.3     1   1131 -11757.778156   0.758333   0.785124 -2850.365154   \n",
       "2  2    0.3     2   1452 -11607.485077   0.779167   0.787463 -2981.943372   \n",
       "3  2    0.3     3   1926 -11694.449144   0.745833   0.778799 -2820.611484   \n",
       "4  2    0.3     4   1969 -11819.378133   0.741667   0.781889 -2748.992755   \n",
       "\n",
       "   acc_test  auc_test  \n",
       "0  0.750000  0.757769  \n",
       "1  0.750000  0.750571  \n",
       "2  0.666667  0.742051  \n",
       "3  0.800000  0.752996  \n",
       "4  0.816667  0.762244  "
      ]
     },
     "execution_count": 2,
     "metadata": {},
     "output_type": "execute_result"
    }
   ],
   "source": [
    "# import results of cross-validation procedure\n",
    "df = pd.read_csv('../data/output/5-fold_cv/adj_results.csv')\n",
    "print(f'Shape: {df.shape}')\n",
    "df.head()"
   ]
  },
  {
   "cell_type": "code",
   "execution_count": 3,
   "metadata": {},
   "outputs": [
    {
     "data": {
      "text/html": [
       "<div>\n",
       "<style scoped>\n",
       "    .dataframe tbody tr th:only-of-type {\n",
       "        vertical-align: middle;\n",
       "    }\n",
       "\n",
       "    .dataframe tbody tr th {\n",
       "        vertical-align: top;\n",
       "    }\n",
       "\n",
       "    .dataframe thead th {\n",
       "        text-align: right;\n",
       "    }\n",
       "</style>\n",
       "<table border=\"1\" class=\"dataframe\">\n",
       "  <thead>\n",
       "    <tr style=\"text-align: right;\">\n",
       "      <th></th>\n",
       "      <th></th>\n",
       "      <th>logL</th>\n",
       "      <th>acc_train</th>\n",
       "      <th>auc_train</th>\n",
       "      <th>logL_test</th>\n",
       "      <th>acc_test</th>\n",
       "      <th>auc_test</th>\n",
       "    </tr>\n",
       "    <tr>\n",
       "      <th>C</th>\n",
       "      <th>gamma</th>\n",
       "      <th></th>\n",
       "      <th></th>\n",
       "      <th></th>\n",
       "      <th></th>\n",
       "      <th></th>\n",
       "      <th></th>\n",
       "    </tr>\n",
       "  </thead>\n",
       "  <tbody>\n",
       "    <tr>\n",
       "      <td rowspan=\"3\" valign=\"top\">2</td>\n",
       "      <td>0.3</td>\n",
       "      <td>-11732.354187</td>\n",
       "      <td>0.756667</td>\n",
       "      <td>0.782924</td>\n",
       "      <td>-2844.501082</td>\n",
       "      <td>0.756667</td>\n",
       "      <td>0.753126</td>\n",
       "    </tr>\n",
       "    <tr>\n",
       "      <td>0.5</td>\n",
       "      <td>-8428.234546</td>\n",
       "      <td>0.756667</td>\n",
       "      <td>0.781621</td>\n",
       "      <td>-2060.305512</td>\n",
       "      <td>0.760000</td>\n",
       "      <td>0.750362</td>\n",
       "    </tr>\n",
       "    <tr>\n",
       "      <td>0.7</td>\n",
       "      <td>-5394.194679</td>\n",
       "      <td>0.730833</td>\n",
       "      <td>0.709526</td>\n",
       "      <td>-1336.954649</td>\n",
       "      <td>0.406667</td>\n",
       "      <td>0.669848</td>\n",
       "    </tr>\n",
       "    <tr>\n",
       "      <td rowspan=\"3\" valign=\"top\">5</td>\n",
       "      <td>0.3</td>\n",
       "      <td>-11264.944162</td>\n",
       "      <td>0.757500</td>\n",
       "      <td>0.831530</td>\n",
       "      <td>-2915.285726</td>\n",
       "      <td>0.743333</td>\n",
       "      <td>0.722198</td>\n",
       "    </tr>\n",
       "    <tr>\n",
       "      <td>0.5</td>\n",
       "      <td>-8090.373720</td>\n",
       "      <td>0.782500</td>\n",
       "      <td>0.829593</td>\n",
       "      <td>-2037.609014</td>\n",
       "      <td>0.710000</td>\n",
       "      <td>0.722336</td>\n",
       "    </tr>\n",
       "    <tr>\n",
       "      <td>0.7</td>\n",
       "      <td>-4916.345713</td>\n",
       "      <td>0.834167</td>\n",
       "      <td>0.819528</td>\n",
       "      <td>-1203.526612</td>\n",
       "      <td>0.730000</td>\n",
       "      <td>0.724836</td>\n",
       "    </tr>\n",
       "    <tr>\n",
       "      <td rowspan=\"3\" valign=\"top\">8</td>\n",
       "      <td>0.3</td>\n",
       "      <td>-10895.304679</td>\n",
       "      <td>0.750833</td>\n",
       "      <td>0.861088</td>\n",
       "      <td>-2902.979417</td>\n",
       "      <td>0.743333</td>\n",
       "      <td>0.685485</td>\n",
       "    </tr>\n",
       "    <tr>\n",
       "      <td>0.5</td>\n",
       "      <td>-7905.564584</td>\n",
       "      <td>0.780833</td>\n",
       "      <td>0.850334</td>\n",
       "      <td>-2016.264981</td>\n",
       "      <td>0.713333</td>\n",
       "      <td>0.696822</td>\n",
       "    </tr>\n",
       "    <tr>\n",
       "      <td>0.7</td>\n",
       "      <td>-4808.438857</td>\n",
       "      <td>0.847500</td>\n",
       "      <td>0.840880</td>\n",
       "      <td>-1172.664468</td>\n",
       "      <td>0.650000</td>\n",
       "      <td>0.699177</td>\n",
       "    </tr>\n",
       "  </tbody>\n",
       "</table>\n",
       "</div>"
      ],
      "text/plain": [
       "                 logL  acc_train  auc_train    logL_test  acc_test  auc_test\n",
       "C gamma                                                                     \n",
       "2 0.3   -11732.354187   0.756667   0.782924 -2844.501082  0.756667  0.753126\n",
       "  0.5    -8428.234546   0.756667   0.781621 -2060.305512  0.760000  0.750362\n",
       "  0.7    -5394.194679   0.730833   0.709526 -1336.954649  0.406667  0.669848\n",
       "5 0.3   -11264.944162   0.757500   0.831530 -2915.285726  0.743333  0.722198\n",
       "  0.5    -8090.373720   0.782500   0.829593 -2037.609014  0.710000  0.722336\n",
       "  0.7    -4916.345713   0.834167   0.819528 -1203.526612  0.730000  0.724836\n",
       "8 0.3   -10895.304679   0.750833   0.861088 -2902.979417  0.743333  0.685485\n",
       "  0.5    -7905.564584   0.780833   0.850334 -2016.264981  0.713333  0.696822\n",
       "  0.7    -4808.438857   0.847500   0.840880 -1172.664468  0.650000  0.699177"
      ]
     },
     "execution_count": 3,
     "metadata": {},
     "output_type": "execute_result"
    }
   ],
   "source": [
    "# group the results for each pair of (C, gamma), and consider the mean over the K-folds \n",
    "groups = df.groupby(by=['C','gamma'])\n",
    "groups.mean().iloc[:, 2:]"
   ]
  },
  {
   "cell_type": "code",
   "execution_count": 4,
   "metadata": {},
   "outputs": [
    {
     "data": {
      "image/png": "[encoded data removed]",
      "text/plain": [
       "<Figure size 432x288 with 1 Axes>"
      ]
     },
     "metadata": {
      "needs_background": "light"
     },
     "output_type": "display_data"
    },
    {
     "data": {
      "image/png": "[encoded data removed]",
      "text/plain": [
       "<Figure size 432x288 with 1 Axes>"
      ]
     },
     "metadata": {
      "needs_background": "light"
     },
     "output_type": "display_data"
    },
    {
     "data": {
      "image/png": "[encoded data removed]",
      "text/plain": [
       "<Figure size 432x288 with 1 Axes>"
      ]
     },
     "metadata": {
      "needs_background": "light"
     },
     "output_type": "display_data"
    }
   ],
   "source": [
    "# plot the results (accuracy and auc of the test set) for each number of communities C\n",
    "label_legend = {'acc_test': 'Accuracy (attribute prediction)', 'auc_test':'AUC (link prediction)'}\n",
    "colors = {'acc_test':'blue','auc_test':'orange'}\n",
    "mins = min(np.min(groups.mean()['acc_test']), np.min(groups.mean()['auc_test']))\n",
    "maxs = max(np.max(groups.mean()['acc_test']), np.max(groups.mean()['auc_test']))\n",
    "\n",
    "for C in np.unique(df.C):\n",
    "    fig = plt.figure()\n",
    "    for measure in ['acc_test', 'auc_test']:\n",
    "        x = np.unique(df.gamma)\n",
    "        y = groups.mean().loc[C][measure]\n",
    "        plt.plot(x, y, marker='o', label=label_legend[measure])\n",
    "        plt.axhline(y = np.max(groups.mean()[measure]), color=colors[measure], linestyle='--')      \n",
    "    \n",
    "    plt.title('C = {0}'.format(C), fontweight=\"bold\", size=13)\n",
    "    plt.xlabel('$\\gamma$', size = 14)\n",
    "    plt.ylim([mins-.05, maxs+.05])\n",
    "    plt.ylabel('value', size = 13)\n",
    "    plt.legend(loc='lower left', fontsize=11)"
   ]
  },
  {
   "cell_type": "markdown",
   "metadata": {},
   "source": [
    "Our model has two hyperparameters, the scaling parameter $\\gamma$ and the number of communities $C$. We estimate them by using 5-fold cross-validation along with grid search to range across their possible values. We then select the combination $(\\hat{C},\\hat{\\gamma})$ that returns the best average performance over the cross-validation runs. Standard cross-validation considers performance in terms of a particular metric. However, here we have two possible ones which are qualitatively different, i.e. AUC and accuracy. Depending on the task at hand, one can define performance as a combination of the two, bearing in mind that the values of $(\\hat{C},\\hat{\\gamma})$ at the maximum of either of them might not coincide. Here we would select $(\\hat{C},\\hat{\\gamma})$ as the values are jointly closer to both the maximum values (dashed lines).\n",
    "\n",
    "The hyperparameters selection would benefit from an automatized routine, to be incorporated as a pre-step in the main algorithm."
   ]
  }
 ],
 "metadata": {
  "kernelspec": {
   "display_name": "Python 3",
   "language": "python",
   "name": "python3"
  },
  "language_info": {
   "codemirror_mode": {
    "name": "ipython",
    "version": 3
   },
   "file_extension": ".py",
   "mimetype": "text/x-python",
   "name": "python",
   "nbconvert_exporter": "python",
   "pygments_lexer": "ipython3",
   "version": "3.7.4"
  }
 },
 "nbformat": 4,
 "nbformat_minor": 2
}
